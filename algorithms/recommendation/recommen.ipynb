{
 "cells": [
  {
   "cell_type": "markdown",
   "metadata": {},
   "source": [
    "### pdf to txt"
   ]
  },
  {
   "cell_type": "code",
   "execution_count": 2,
   "metadata": {
    "ExecuteTime": {
     "end_time": "2020-09-10T03:47:58.232040Z",
     "start_time": "2020-09-10T03:47:58.208040Z"
    }
   },
   "outputs": [],
   "source": [
    "import re\n",
    "import json\n",
    "from scipy.stats.stats import pearsonr\n",
    "import numpy as np\n",
    "import seaborn as sns\n",
    "import pandas as pd\n",
    "import datetime\n",
    "import sys\n",
    "import multiprocessing\n",
    "from glob import glob\n",
    "from collections import Counter\n",
    "import gensim\n",
    "from scipy import spatial\n",
    "from gensim.models.doc2vec import Doc2Vec, LabeledSentence\n",
    "import matplotlib.pyplot as plt\n",
    "# plt.rc('font',family='Times New Roman')\n",
    "# from gensim.test.utils import common_texts, get_tmpfile\n",
    "from gensim.models import Word2Vec\n",
    "import statsmodels.formula.api as smf\n",
    "from scipy.stats import chisquare\n",
    "from scipy import stats\n",
    "pd.set_option('display.max_columns',None)\n",
    "pd.set_option('display.width', 1000)\n",
    "pd.set_option('display.max_colwidth',1000)\n",
    "\n",
    "def flushPrint(s):\n",
    "    sys.stdout.write('\\r')\n",
    "    sys.stdout.write('%s' % s)\n",
    "    sys.stdout.flush()"
   ]
  },
  {
   "cell_type": "code",
   "execution_count": 3,
   "metadata": {
    "ExecuteTime": {
     "end_time": "2020-09-10T03:47:58.635666Z",
     "start_time": "2020-09-10T03:47:58.632522Z"
    }
   },
   "outputs": [
    {
     "ename": "ModuleNotFoundError",
     "evalue": "No module named 'convertapi'",
     "output_type": "error",
     "traceback": [
      "\u001B[0;31m---------------------------------------------------------------------------\u001B[0m",
      "\u001B[0;31mModuleNotFoundError\u001B[0m                       Traceback (most recent call last)",
      "\u001B[0;32m<ipython-input-3-d166cfa35b4b>\u001B[0m in \u001B[0;36m<module>\u001B[0;34m\u001B[0m\n\u001B[0;32m----> 1\u001B[0;31m \u001B[0;32mimport\u001B[0m \u001B[0mconvertapi\u001B[0m\u001B[0;34m\u001B[0m\u001B[0;34m\u001B[0m\u001B[0m\n\u001B[0m\u001B[1;32m      2\u001B[0m \u001B[0;34m\u001B[0m\u001B[0m\n\u001B[1;32m      3\u001B[0m \u001B[0mconvertapi\u001B[0m\u001B[0;34m.\u001B[0m\u001B[0mapi_secret\u001B[0m \u001B[0;34m=\u001B[0m \u001B[0;34m'wnksvxBmrDhTxO82'\u001B[0m \u001B[0;31m#https://www.convertapi.com/prices api接口按时收费，时间太长\u001B[0m\u001B[0;34m\u001B[0m\u001B[0;34m\u001B[0m\u001B[0m\n\u001B[1;32m      4\u001B[0m \u001B[0;34m\u001B[0m\u001B[0m\n",
      "\u001B[0;31mModuleNotFoundError\u001B[0m: No module named 'convertapi'"
     ]
    }
   ],
   "source": [
    "import convertapi\n",
    "\n",
    "convertapi.api_secret = 'wnksvxBmrDhTxO82' #https://www.convertapi.com/prices api接口按时收费，时间太长"
   ]
  },
  {
   "cell_type": "code",
   "execution_count": 30,
   "metadata": {
    "ExecuteTime": {
     "end_time": "2020-09-10T03:48:08.535267Z",
     "start_time": "2020-09-10T03:47:59.164749Z"
    }
   },
   "outputs": [
    {
     "data": {
      "text/plain": [
       "['./CV.txt']"
      ]
     },
     "execution_count": 30,
     "metadata": {},
     "output_type": "execute_result"
    }
   ],
   "source": [
    "convertapi.convert('txt', {\n",
    "    'File': './CV.pdf'\n",
    "}, from_format = 'pdf').save_files('./')"
   ]
  },
  {
   "cell_type": "code",
   "execution_count": 4,
   "metadata": {
    "ExecuteTime": {
     "end_time": "2020-09-10T03:48:08.540581Z",
     "start_time": "2020-09-10T03:48:08.537200Z"
    }
   },
   "outputs": [],
   "source": [
    "import pdfminer #python包，时间短"
   ]
  },
  {
   "cell_type": "code",
   "execution_count": 5,
   "metadata": {
    "ExecuteTime": {
     "end_time": "2020-09-10T03:48:09.157045Z",
     "start_time": "2020-09-10T03:48:08.542727Z"
    }
   },
   "outputs": [],
   "source": [
    "! pdf2txt.py -o ./CV1.txt ./CV.pdf"
   ]
  },
  {
   "cell_type": "markdown",
   "metadata": {},
   "source": [
    "### skill_diction"
   ]
  },
  {
   "cell_type": "code",
   "execution_count": 6,
   "metadata": {
    "ExecuteTime": {
     "end_time": "2020-09-10T03:49:02.823009Z",
     "start_time": "2020-09-10T03:48:10.815286Z"
    }
   },
   "outputs": [],
   "source": [
    "# Load Google's pre-trained Word2Vec model.\n",
    "model = gensim.models.KeyedVectors.load_word2vec_format('./GoogleNews-vectors-negative300.bin',binary=True)"
   ]
  },
  {
   "cell_type": "code",
   "execution_count": 7,
   "metadata": {
    "ExecuteTime": {
     "end_time": "2020-09-10T03:49:02.841286Z",
     "start_time": "2020-09-10T03:49:02.828015Z"
    }
   },
   "outputs": [],
   "source": [
    "def skill(x):\n",
    "    a=' '.join(x)\n",
    "    a=a.split(' ')\n",
    "    b=[]\n",
    "    for i in a:\n",
    "        if i in model.wv.vocab:\n",
    "            b.append(model[i])\n",
    "    if b==[]:\n",
    "        return [0]*300\n",
    "    else:\n",
    "        return list(np.mean(b,axis=0))"
   ]
  },
  {
   "cell_type": "code",
   "execution_count": 8,
   "metadata": {
    "ExecuteTime": {
     "end_time": "2020-09-10T03:49:04.094241Z",
     "start_time": "2020-09-10T03:49:02.845521Z"
    }
   },
   "outputs": [],
   "source": [
    "with open(\"./hubstaff_profiles.json\") as fp:  #speciality,skills,pay_rate\n",
    "    profile = json.load(fp)"
   ]
  },
  {
   "cell_type": "code",
   "execution_count": 9,
   "metadata": {
    "ExecuteTime": {
     "end_time": "2020-09-10T03:49:04.298345Z",
     "start_time": "2020-09-10T03:49:04.096765Z"
    }
   },
   "outputs": [],
   "source": [
    "skill_dict=[j.lower() for i in profile for j in i['skills']]"
   ]
  },
  {
   "cell_type": "code",
   "execution_count": 10,
   "metadata": {
    "ExecuteTime": {
     "end_time": "2020-09-10T03:49:04.351756Z",
     "start_time": "2020-09-10T03:49:04.300350Z"
    }
   },
   "outputs": [],
   "source": [
    "with open(\"./hubstaff_job_descriptions.json\") as fp: # complete\n",
    "    job_des = json.load(fp)"
   ]
  },
  {
   "cell_type": "code",
   "execution_count": 11,
   "metadata": {
    "ExecuteTime": {
     "end_time": "2020-09-10T03:49:04.358401Z",
     "start_time": "2020-09-10T03:49:04.353758Z"
    }
   },
   "outputs": [],
   "source": [
    "skill_dict1=[j.lower() for i in job_des for j in i['skills']]"
   ]
  },
  {
   "cell_type": "code",
   "execution_count": 12,
   "metadata": {
    "ExecuteTime": {
     "end_time": "2020-09-10T03:49:04.435909Z",
     "start_time": "2020-09-10T03:49:04.360802Z"
    }
   },
   "outputs": [],
   "source": [
    "diction_all=list(set(skill_dict+skill_dict1)) # 得到一个技能字典"
   ]
  },
  {
   "cell_type": "code",
   "execution_count": 13,
   "metadata": {
    "ExecuteTime": {
     "end_time": "2020-09-10T03:49:04.589996Z",
     "start_time": "2020-09-10T03:49:04.439321Z"
    },
    "scrolled": true
   },
   "outputs": [
    {
     "name": "stderr",
     "output_type": "stream",
     "text": [
      "<ipython-input-7-fef9621d00c5>:6: DeprecationWarning: Call to deprecated `wv` (Attribute will be removed in 4.0.0, use self instead).\n",
      "  if i in model.wv.vocab:\n"
     ]
    }
   ],
   "source": [
    "skill_emb=dict(zip([i for i in diction_all],[skill(i) for i in diction_all]))"
   ]
  },
  {
   "cell_type": "markdown",
   "metadata": {},
   "source": [
    "### job"
   ]
  },
  {
   "cell_type": "code",
   "execution_count": 14,
   "metadata": {
    "ExecuteTime": {
     "end_time": "2020-09-10T03:49:07.554825Z",
     "start_time": "2020-09-10T03:49:07.551192Z"
    }
   },
   "outputs": [],
   "source": [
    "skills=[i['skills'] for i in job_des]"
   ]
  },
  {
   "cell_type": "code",
   "execution_count": 15,
   "metadata": {
    "ExecuteTime": {
     "end_time": "2020-09-10T03:49:08.259378Z",
     "start_time": "2020-09-10T03:49:07.967636Z"
    },
    "scrolled": true
   },
   "outputs": [
    {
     "name": "stderr",
     "output_type": "stream",
     "text": [
      "<ipython-input-7-fef9621d00c5>:6: DeprecationWarning: Call to deprecated `wv` (Attribute will be removed in 4.0.0, use self instead).\n",
      "  if i in model.wv.vocab:\n"
     ]
    }
   ],
   "source": [
    "skill_dimen=[skill([j.lower() for j in i]) for i in skills] #计算所有工作的embedding"
   ]
  },
  {
   "cell_type": "code",
   "execution_count": 16,
   "metadata": {
    "ExecuteTime": {
     "end_time": "2020-09-10T03:49:08.421843Z",
     "start_time": "2020-09-10T03:49:08.411071Z"
    }
   },
   "outputs": [],
   "source": [
    "with open('./CV1.txt') as f:\n",
    "    text=f.readlines()\n",
    "\n",
    "text=[re.sub(r'[\\n\\r\\t \"]',\" \",i) for i in text]\n",
    "text=[i.lower() for i in ''.join(text).split(' ') if i!='']"
   ]
  },
  {
   "cell_type": "code",
   "execution_count": 17,
   "metadata": {
    "ExecuteTime": {
     "end_time": "2020-09-10T03:49:09.040704Z",
     "start_time": "2020-09-10T03:49:09.036353Z"
    }
   },
   "outputs": [
    {
     "name": "stderr",
     "output_type": "stream",
     "text": [
      "<ipython-input-7-fef9621d00c5>:6: DeprecationWarning: Call to deprecated `wv` (Attribute will be removed in 4.0.0, use self instead).\n",
      "  if i in model.wv.vocab:\n"
     ]
    }
   ],
   "source": [
    "my_skill=skill(list(set([i for i in text if i in skill_emb.keys()])))"
   ]
  },
  {
   "cell_type": "code",
   "execution_count": 18,
   "metadata": {
    "ExecuteTime": {
     "end_time": "2020-09-10T03:49:09.957798Z",
     "start_time": "2020-09-10T03:49:09.952968Z"
    }
   },
   "outputs": [
    {
     "data": {
      "text/plain": "{'company',\n 'computer',\n 'data',\n 'digital',\n 'education',\n 'female',\n 'information',\n 'journalism',\n 'online',\n 'psychology',\n 'python',\n 'research',\n 'science',\n 'spss',\n 'statistics',\n 'story',\n 'word'}"
     },
     "execution_count": 18,
     "metadata": {},
     "output_type": "execute_result"
    }
   ],
   "source": [
    "set([i for i in text if i in skill_emb.keys()]) #从简历里面提取出在技能字典的词"
   ]
  },
  {
   "cell_type": "code",
   "execution_count": 19,
   "metadata": {
    "ExecuteTime": {
     "end_time": "2020-09-10T03:49:10.825096Z",
     "start_time": "2020-09-10T03:49:10.820765Z"
    }
   },
   "outputs": [],
   "source": [
    "def normalize(v):\n",
    "    norm = np.linalg.norm(v)\n",
    "    if norm == 0:\n",
    "        return v\n",
    "    return v / norm"
   ]
  },
  {
   "cell_type": "code",
   "execution_count": 20,
   "metadata": {
    "ExecuteTime": {
     "end_time": "2020-09-10T03:49:11.360864Z",
     "start_time": "2020-09-10T03:49:11.289200Z"
    }
   },
   "outputs": [],
   "source": [
    "skill_dimen=[normalize(i) for i in skill_dimen]\n",
    "a=np.array(skill_dimen).dot(np.array(normalize(my_skill))) #计算简历和所有技能的相似性"
   ]
  },
  {
   "cell_type": "code",
   "execution_count": 21,
   "metadata": {
    "ExecuteTime": {
     "end_time": "2020-09-10T03:49:37.753700Z",
     "start_time": "2020-09-10T03:49:37.746397Z"
    },
    "scrolled": false
   },
   "outputs": [
    {
     "data": {
      "text/plain": "[{'name': 'Predictive Analytics for SAP PAL',\n  'pricing_model': 'hourly',\n  'company': ' KB Solutions',\n  'company_url': 'http://www.kbsapsolutions.com',\n  'location': ' Tel Aviv, Tel Aviv, Israel',\n  'type': ' Remote job',\n  'created_at': ' May 20',\n  'description': 'Extensive knowledge in predictive analytics for SAP PAL. We need to format a solution in SAP using Predictive Analysis Technology. The use of procedures in the AMDP class is strongly recommended.',\n  'skills': ['Data Science'],\n  'availability': ['Hourly contract'],\n  'experience_levels': ['Intermediate (3 - 5 yrs), Expert (5+ yrs)'],\n  'languages': ['English, Portuguese'],\n  'pay_rate': 'Negotiable rate'},\n {'name': 'Virtual Assistant',\n  'pricing_model': 'hourly',\n  'company': ' Mealheroes',\n  'company_url': 'http://www.mealheroes.de',\n  'location': ' Berlin, Berlin, Germany',\n  'type': ' Remote job',\n  'created_at': ' Jun  1',\n  'description': ['We are a young food startup.',\n   'Currently, we search for business tasks and for private tasks someone who can help us with Research, Word Formatting, Data Entries, and Power Point presentations.'],\n  'skills': ['Presentation Design',\n   'Research',\n   'Word',\n   'Online Research',\n   'Data Entry'],\n  'availability': ['Hourly contract'],\n  'experience_levels': [],\n  'languages': [],\n  'pay_rate': '$3/hr'},\n {'name': 'Part Time Social Media Manager',\n  'pricing_model': 'hourly',\n  'company': ' 3R Industries, Inc ',\n  'company_url': 'http://3rteachertraining.com',\n  'location': ' Brewster, New York, United States',\n  'type': ' Remote job',\n  'created_at': ' Jun  9',\n  'description': ['We are looking for someone to create and schedule social media posts to FB, TW, LI, and IG through our AgoraPulse account. We would provide scheduling requirements and times of course.',\n   'NECESSARY Skills:',\n   'PREFERRED SKILLS',\n   'Please provide the references with email contact information.',\n   'For the first part of your reply, please type \"3RSocial\" so that we can prioritize those who we know have read the entire posting.'],\n  'skills': ['Canva', 'Online Research', 'Social Media Management'],\n  'availability': ['Hourly contract'],\n  'experience_levels': ['Intermediate (3 - 5 yrs)'],\n  'languages': ['English'],\n  'pay_rate': 'Negotiable rate'},\n {'name': 'Editing, inserting graphics, prepare article for submission',\n  'pricing_model': 'hourly',\n  'company': ' Concierge Fitness',\n  'company_url': 'https://www.facebook.com/john.schwenker',\n  'location': ' Niagara Falls, Ontario, Canada',\n  'type': ' Remote job',\n  'created_at': ' Jun 17',\n  'description': 'I am a fitness writer. I love writing my first draft, and going through it once. Then I am done with it. I am submitting articles to fitness magazines and need them to be edited, proofread, graphics created and inserted, insert unique photos and videos into the article (provided) and have it ready to be submitted to editor.',\n  'skills': ['Word',\n   'Data Visualization',\n   'Storytelling',\n   'Social Media Management'],\n  'availability': ['Hourly contract'],\n  'experience_levels': [],\n  'languages': ['English'],\n  'pay_rate': 'Negotiable rate'},\n {'name': 'Virtual Assistant',\n  'pricing_model': 'full time',\n  'company': ' Product Equities',\n  'company_url': 'http://productequities.com',\n  'location': ' Forest Hills, NY, United States',\n  'type': ' Remote job',\n  'created_at': ' Jun 11',\n  'description': ['Seeking detail oriented virtual assistant for fast-paced international digital marketing agency.',\n   'Must have comprehensive experience with Google Sheets.',\n   'Tasks include:',\n   'Research',\n   'Data mining',\n   'Data analysis',\n   'Organization'],\n  'skills': ['Data Collection',\n   'Google Sheets',\n   'Online Research',\n   'Data Management',\n   'Data Entry'],\n  'availability': ['Full-time (40 hrs/wk)'],\n  'experience_levels': ['Beginner (1 - 3 yrs)'],\n  'languages': ['English'],\n  'pay_rate': 'Negotiable rate'}]"
     },
     "execution_count": 21,
     "metadata": {},
     "output_type": "execute_result"
    }
   ],
   "source": [
    "topn=5\n",
    "[job_des[i] for i,j in sorted(enumerate(a),key=lambda x: x[1],reverse=True)[:topn]]"
   ]
  },
  {
   "cell_type": "code",
   "execution_count": null,
   "metadata": {},
   "outputs": [],
   "source": []
  }
 ],
 "metadata": {
  "kernelspec": {
   "display_name": "Python 3",
   "language": "python",
   "name": "python3"
  },
  "language_info": {
   "codemirror_mode": {
    "name": "ipython",
    "version": 3
   },
   "file_extension": ".py",
   "mimetype": "text/x-python",
   "name": "python",
   "nbconvert_exporter": "python",
   "pygments_lexer": "ipython3",
   "version": "3.6.2"
  },
  "toc": {
   "nav_menu": {},
   "number_sections": true,
   "sideBar": true,
   "skip_h1_title": false,
   "title_cell": "Table of Contents",
   "title_sidebar": "Contents",
   "toc_cell": false,
   "toc_position": {},
   "toc_section_display": true,
   "toc_window_display": false
  }
 },
 "nbformat": 4,
 "nbformat_minor": 2
}