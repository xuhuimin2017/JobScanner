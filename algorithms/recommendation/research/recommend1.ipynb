{
 "cells": [
  {
   "cell_type": "code",
   "execution_count": 2,
   "metadata": {
    "ExecuteTime": {
     "end_time": "2020-10-01T09:45:01.628824Z",
     "start_time": "2020-10-01T09:45:01.521379Z"
    }
   },
   "outputs": [],
   "source": [
    "import re\n",
    "import networkx as nx\n",
    "import json\n",
    "from scipy.stats.stats import pearsonr\n",
    "import numpy as np\n",
    "import seaborn as sns\n",
    "import pandas as pd\n",
    "import datetime\n",
    "import sys\n",
    "import multiprocessing\n",
    "from glob import glob\n",
    "from collections import Counter\n",
    "import gensim\n",
    "from scipy import spatial\n",
    "from gensim.models.doc2vec import Doc2Vec, LabeledSentence\n",
    "import matplotlib.pyplot as plt\n",
    "# plt.rc('font',family='Times New Roman')\n",
    "# from gensim.test.utils import common_texts, get_tmpfile\n",
    "from gensim.models import Word2Vec\n",
    "import statsmodels.formula.api as smf\n",
    "from scipy.stats import chisquare\n",
    "from scipy import stats\n",
    "pd.set_option('display.max_columns',None)\n",
    "pd.set_option('display.width', 1000)\n",
    "pd.set_option('display.max_colwidth',1000)"
   ]
  },
  {
   "cell_type": "markdown",
   "metadata": {},
   "source": [
    "### job_rec"
   ]
  },
  {
   "cell_type": "code",
   "execution_count": 3,
   "metadata": {
    "ExecuteTime": {
     "end_time": "2020-10-01T09:00:08.531807Z",
     "start_time": "2020-10-01T09:00:08.528967Z"
    }
   },
   "outputs": [],
   "source": [
    "import pdfminer #python包，时间短"
   ]
  },
  {
   "cell_type": "code",
   "execution_count": 4,
   "metadata": {
    "ExecuteTime": {
     "end_time": "2020-10-01T09:00:09.468241Z",
     "start_time": "2020-10-01T09:00:08.896105Z"
    }
   },
   "outputs": [],
   "source": [
    "! pdf2txt.py -o ./CV1.txt ./CV.pdf"
   ]
  },
  {
   "cell_type": "code",
   "execution_count": 5,
   "metadata": {
    "ExecuteTime": {
     "end_time": "2020-10-01T09:00:09.564494Z",
     "start_time": "2020-10-01T09:00:09.471532Z"
    }
   },
   "outputs": [],
   "source": [
    "with open('skill_emb.json', 'r') as json_file:\n",
    "    skill_emb = json.load(json_file)"
   ]
  },
  {
   "cell_type": "code",
   "execution_count": 6,
   "metadata": {
    "ExecuteTime": {
     "end_time": "2020-10-01T09:00:09.587548Z",
     "start_time": "2020-10-01T09:00:09.566818Z"
    }
   },
   "outputs": [],
   "source": [
    "with open(\"./hubstaff_job_descriptions.json\") as fp: # complete\n",
    "    job_des = json.load(fp)"
   ]
  },
  {
   "cell_type": "code",
   "execution_count": 7,
   "metadata": {
    "ExecuteTime": {
     "end_time": "2020-10-01T09:00:10.009252Z",
     "start_time": "2020-10-01T09:00:10.005584Z"
    }
   },
   "outputs": [],
   "source": [
    "skills=[i['skills'] for i in job_des]"
   ]
  },
  {
   "cell_type": "code",
   "execution_count": 8,
   "metadata": {
    "ExecuteTime": {
     "end_time": "2020-10-01T09:00:23.216595Z",
     "start_time": "2020-10-01T09:00:23.211550Z"
    }
   },
   "outputs": [],
   "source": [
    "def skill(x):\n",
    "    a=' '.join(x)\n",
    "    a=a.split(' ')\n",
    "    b=[]\n",
    "    for i in a:\n",
    "        if i in skill_emb:\n",
    "            b.append(skill_emb[i])\n",
    "    if b==[]:\n",
    "        return [0]*300\n",
    "    else:\n",
    "        return list(np.mean(b,axis=0))"
   ]
  },
  {
   "cell_type": "code",
   "execution_count": 9,
   "metadata": {
    "ExecuteTime": {
     "end_time": "2020-10-01T09:00:23.882223Z",
     "start_time": "2020-10-01T09:00:23.781949Z"
    },
    "scrolled": true
   },
   "outputs": [],
   "source": [
    "skill_dimen=[skill([j.lower() for j in i]) for i in skills] #计算所有工作的embedding"
   ]
  },
  {
   "cell_type": "code",
   "execution_count": 10,
   "metadata": {
    "ExecuteTime": {
     "end_time": "2020-10-01T09:00:24.466386Z",
     "start_time": "2020-10-01T09:00:24.460984Z"
    }
   },
   "outputs": [],
   "source": [
    "with open('./CV1.txt') as f:\n",
    "    text=f.readlines()\n",
    "\n",
    "text=[re.sub(r'[\\n\\r\\t \"]',\" \",i) for i in text]\n",
    "text=[i.lower() for i in ''.join(text).split(' ') if i!='']"
   ]
  },
  {
   "cell_type": "code",
   "execution_count": 11,
   "metadata": {
    "ExecuteTime": {
     "end_time": "2020-10-01T09:00:24.967912Z",
     "start_time": "2020-10-01T09:00:24.963987Z"
    }
   },
   "outputs": [],
   "source": [
    "my_skill=skill(list(set([i for i in text if i in skill_emb.keys()])))"
   ]
  },
  {
   "cell_type": "code",
   "execution_count": 12,
   "metadata": {
    "ExecuteTime": {
     "end_time": "2020-10-01T09:00:25.481194Z",
     "start_time": "2020-10-01T09:00:25.476026Z"
    }
   },
   "outputs": [
    {
     "data": {
      "text/plain": "{'company',\n 'computer',\n 'data',\n 'digital',\n 'education',\n 'female',\n 'information',\n 'journalism',\n 'online',\n 'psychology',\n 'python',\n 'research',\n 'science',\n 'spss',\n 'statistics',\n 'story',\n 'word'}"
     },
     "execution_count": 12,
     "metadata": {},
     "output_type": "execute_result"
    }
   ],
   "source": [
    "set([i for i in text if i in skill_emb.keys()]) #从简历里面提取出在技能字典的词"
   ]
  },
  {
   "cell_type": "code",
   "execution_count": 13,
   "metadata": {
    "ExecuteTime": {
     "end_time": "2020-10-01T09:00:26.087559Z",
     "start_time": "2020-10-01T09:00:26.083881Z"
    }
   },
   "outputs": [],
   "source": [
    "def normalize(v):\n",
    "    norm = np.linalg.norm(v)\n",
    "    if norm == 0:\n",
    "        return v\n",
    "    return v / norm"
   ]
  },
  {
   "cell_type": "code",
   "execution_count": 14,
   "metadata": {
    "ExecuteTime": {
     "end_time": "2020-10-01T09:00:26.542421Z",
     "start_time": "2020-10-01T09:00:26.468738Z"
    }
   },
   "outputs": [],
   "source": [
    "skill_dimen=[normalize(i) for i in skill_dimen]\n",
    "a=np.array(skill_dimen).dot(np.array(normalize(my_skill))) #计算简历和所有技能的相似性"
   ]
  },
  {
   "cell_type": "code",
   "execution_count": 15,
   "metadata": {
    "ExecuteTime": {
     "end_time": "2020-10-01T09:07:55.472401Z",
     "start_time": "2020-10-01T09:07:55.463300Z"
    },
    "scrolled": true
   },
   "outputs": [
    {
     "data": {
      "text/plain": "[{'name': 'Virtual Assistant',\n  'pricing_model': 'hourly',\n  'company': ' Mealheroes',\n  'company_url': 'http://www.mealheroes.de',\n  'location': ' Berlin, Berlin, Germany',\n  'type': ' Remote job',\n  'created_at': ' Jun  1',\n  'description': ['We are a young food startup.',\n   'Currently, we search for business tasks and for private tasks someone who can help us with Research, Word Formatting, Data Entries, and Power Point presentations.'],\n  'skills': ['Presentation Design',\n   'Research',\n   'Word',\n   'Online Research',\n   'Data Entry'],\n  'availability': ['Hourly contract'],\n  'experience_levels': [],\n  'languages': [],\n  'pay_rate': '$3/hr'},\n {'name': 'Predictive Analytics for SAP PAL',\n  'pricing_model': 'hourly',\n  'company': ' KB Solutions',\n  'company_url': 'http://www.kbsapsolutions.com',\n  'location': ' Tel Aviv, Tel Aviv, Israel',\n  'type': ' Remote job',\n  'created_at': ' May 20',\n  'description': 'Extensive knowledge in predictive analytics for SAP PAL. We need to format a solution in SAP using Predictive Analysis Technology. The use of procedures in the AMDP class is strongly recommended.',\n  'skills': ['Data Science'],\n  'availability': ['Hourly contract'],\n  'experience_levels': ['Intermediate (3 - 5 yrs), Expert (5+ yrs)'],\n  'languages': ['English, Portuguese'],\n  'pay_rate': 'Negotiable rate'},\n {'name': 'Virtual Assistant',\n  'pricing_model': 'full time',\n  'company': ' Product Equities',\n  'company_url': 'http://productequities.com',\n  'location': ' Forest Hills, NY, United States',\n  'type': ' Remote job',\n  'created_at': ' Jun 11',\n  'description': ['Seeking detail oriented virtual assistant for fast-paced international digital marketing agency.',\n   'Must have comprehensive experience with Google Sheets.',\n   'Tasks include:',\n   'Research',\n   'Data mining',\n   'Data analysis',\n   'Organization'],\n  'skills': ['Data Collection',\n   'Google Sheets',\n   'Online Research',\n   'Data Management',\n   'Data Entry'],\n  'availability': ['Full-time (40 hrs/wk)'],\n  'experience_levels': ['Beginner (1 - 3 yrs)'],\n  'languages': ['English'],\n  'pay_rate': 'Negotiable rate'},\n {'name': 'Prospecting Appointment Setter',\n  'pricing_model': 'full time',\n  'company': ' Digital Clients Only',\n  'company_url': 'https://www.facebook.com/Digital-Clients-Only-114173366691415/',\n  'location': ' Tampa, Florida, United States',\n  'type': ' Remote job',\n  'created_at': ' Jun 24',\n  'description': \"We're in search of talent that have years of experience of prospecting online using LinkedIn Sales Navigator, Facebook and Instagram. The person's role is to prospect 8 hours a day and set appointments with prospects on the company calendar for us to conduct business with. Person must also have experience with cold email list building and data scraping using google sheets along with data entry. Knowing how to create SOPs is a plus and will also help you stand out from other competitiors. We will train on how to use CRM. If you think you're a great fit for this role, please apply now.\",\n  'skills': ['Google Sheets',\n   'Digital Marketing',\n   'Data Collection',\n   'Facebook Admin',\n   'Data Entry',\n   'Data Scraping',\n   'Data Management',\n   'Excel',\n   'Appointment Setting',\n   'Linkedin',\n   'Instagram',\n   'Facebook Advertising',\n   'CRM (Customer Relationship Management)',\n   'Email List Building'],\n  'availability': ['Full-time (40 hrs/wk)'],\n  'experience_levels': ['Intermediate (3 - 5 yrs)'],\n  'languages': ['English'],\n  'pay_rate': '$3/hr'},\n {'name': 'Virtual Assistant',\n  'pricing_model': 'hourly',\n  'company': ' Mealheroes',\n  'company_url': 'http://mealheroes.de',\n  'location': ' Berlin, Berlin, Germany',\n  'type': ' Remote job',\n  'created_at': ' May 31',\n  'description': ['We are a young food startup.',\n   'Currently, we search for business tasks and for private tasks someone who can help us with Research, Word Formatting, Data Entries, and Power Point presentations.'],\n  'skills': ['Virtual Assistant',\n   'Data Visualization',\n   'Online Research',\n   'Data Entry'],\n  'availability': ['Hourly contract'],\n  'experience_levels': [],\n  'languages': [],\n  'pay_rate': '$3/hr'}]"
     },
     "execution_count": 15,
     "metadata": {},
     "output_type": "execute_result"
    }
   ],
   "source": [
    "topn=5\n",
    "[job_des[i] for i,j in sorted(enumerate(a),key=lambda x: x[1],reverse=True)[:topn]]"
   ]
  },
  {
   "cell_type": "code",
   "execution_count": 16,
   "metadata": {},
   "outputs": [
    {
     "ename": "SyntaxError",
     "evalue": "invalid character in identifier (<ipython-input-16-a2351460f624>, line 1)",
     "output_type": "error",
     "traceback": [
      "\u001B[0;36m  File \u001B[0;32m\"<ipython-input-16-a2351460f624>\"\u001B[0;36m, line \u001B[0;32m1\u001B[0m\n\u001B[0;31m    到这一步就结束推荐！底下是可视化，还没有弄好\u001B[0m\n\u001B[0m                         ^\u001B[0m\n\u001B[0;31mSyntaxError\u001B[0m\u001B[0;31m:\u001B[0m invalid character in identifier\n"
     ]
    }
   ],
   "source": [
    "到这一步就结束推荐！底下是可视化，还没有弄好"
   ]
  },
  {
   "cell_type": "markdown",
   "metadata": {},
   "source": [
    "### skill_tree"
   ]
  },
  {
   "cell_type": "code",
   "execution_count": null,
   "metadata": {
    "ExecuteTime": {
     "end_time": "2020-10-01T09:11:11.978101Z",
     "start_time": "2020-10-01T09:11:11.901909Z"
    }
   },
   "outputs": [],
   "source": [
    "with open('skill_emb.json', 'r') as json_file:\n",
    "    skill_emb = json.load(json_file)"
   ]
  },
  {
   "cell_type": "code",
   "execution_count": null,
   "metadata": {
    "ExecuteTime": {
     "end_time": "2020-10-01T09:11:21.036652Z",
     "start_time": "2020-10-01T09:11:21.031177Z"
    }
   },
   "outputs": [],
   "source": [
    "len(skill_emb)"
   ]
  },
  {
   "cell_type": "code",
   "execution_count": null,
   "metadata": {
    "ExecuteTime": {
     "end_time": "2020-10-01T09:50:01.978392Z",
     "start_time": "2020-10-01T09:50:01.974837Z"
    }
   },
   "outputs": [],
   "source": [
    "skill_key=[i for i in skill_emb]"
   ]
  },
  {
   "cell_type": "code",
   "execution_count": null,
   "metadata": {
    "ExecuteTime": {
     "end_time": "2020-10-01T09:50:15.488086Z",
     "start_time": "2020-10-01T09:50:15.484944Z"
    }
   },
   "outputs": [],
   "source": [
    "skill_value=[skill_emb[i] for i in skill_emb]"
   ]
  },
  {
   "cell_type": "code",
   "execution_count": null,
   "metadata": {
    "ExecuteTime": {
     "end_time": "2020-10-01T09:50:22.170229Z",
     "start_time": "2020-10-01T09:50:22.120555Z"
    }
   },
   "outputs": [],
   "source": [
    "a=np.array(skill_value).dot(np.array(skill_value).T)"
   ]
  },
  {
   "cell_type": "code",
   "execution_count": null,
   "metadata": {
    "ExecuteTime": {
     "end_time": "2020-10-01T09:56:07.131960Z",
     "start_time": "2020-10-01T09:56:06.443371Z"
    }
   },
   "outputs": [],
   "source": [
    "W=nx.Graph()\n",
    "for s in range(len(skill)):\n",
    "    m=skill_key[s]\n",
    "    n=[skill_key[i] for i,j in sorted(enumerate(a[s]),key=lambda x: x[1],reverse=True)[1:2]][0]\n",
    "    if m!=n:\n",
    "        W.add_edge(m,n,weight=1)"
   ]
  },
  {
   "cell_type": "code",
   "execution_count": null,
   "metadata": {
    "ExecuteTime": {
     "end_time": "2020-10-01T09:56:07.497783Z",
     "start_time": "2020-10-01T09:56:07.493071Z"
    },
    "scrolled": false
   },
   "outputs": [],
   "source": [
    "W['management']"
   ]
  },
  {
   "cell_type": "code",
   "execution_count": null,
   "metadata": {
    "ExecuteTime": {
     "end_time": "2020-10-01T10:08:35.282734Z",
     "start_time": "2020-10-01T10:08:35.277243Z"
    },
    "scrolled": false
   },
   "outputs": [],
   "source": [
    "W['airbnb management']"
   ]
  },
  {
   "cell_type": "code",
   "execution_count": null,
   "metadata": {
    "ExecuteTime": {
     "end_time": "2020-10-01T13:18:13.708097Z",
     "start_time": "2020-10-01T13:18:04.354126Z"
    }
   },
   "outputs": [],
   "source": [
    "pos = nx.spring_layout(W)\n",
    "T = W.degree(weight='weight')"
   ]
  },
  {
   "cell_type": "code",
   "execution_count": null,
   "metadata": {
    "ExecuteTime": {
     "end_time": "2020-10-01T13:18:14.395900Z",
     "start_time": "2020-10-01T13:18:14.385710Z"
    }
   },
   "outputs": [],
   "source": [
    "with open('./killWeb_LinkedIn_Pos.txt','w') as f:\n",
    "    for i in pos:\n",
    "        xi,yi=pos[i]\n",
    "        f.write(i+'\\t'+str(xi)+'\\t'+str(yi)+'\\n')"
   ]
  },
  {
   "cell_type": "code",
   "execution_count": null,
   "metadata": {
    "ExecuteTime": {
     "end_time": "2020-10-01T13:18:17.518560Z",
     "start_time": "2020-10-01T13:18:17.511612Z"
    }
   },
   "outputs": [],
   "source": [
    "pos={}\n",
    "with open('./killWeb_LinkedIn_Pos.txt','r') as f:\n",
    "    for line in f:\n",
    "        i,x,y=line.strip().split('\\t')\n",
    "        pos[i]=[float(x),float(y)]"
   ]
  },
  {
   "cell_type": "code",
   "execution_count": null,
   "metadata": {
    "ExecuteTime": {
     "end_time": "2020-10-01T13:30:03.200001Z",
     "start_time": "2020-10-01T13:30:00.138948Z"
    }
   },
   "outputs": [],
   "source": [
    "fig = plt.figure(figsize=(20, 10),facecolor='white')\n",
    "ax = fig.add_subplot(121)\n",
    "size=np.array([len(W[i]) for i in list(pos.keys())])\n",
    "x,y = np.array(list(pos.values())).T\n",
    "plt.scatter(x,y,s=size,c='gray',edgecolor='gray',alpha=1)\n",
    "for i in pos:\n",
    "    if len(W[i])>5:\n",
    "        x,y=pos[i]\n",
    "        plt.text(x,y,i)\n",
    "for i,j in W.edges():\n",
    "    xi,yi=pos[i]\n",
    "    xj,yj=pos[j]\n",
    "    w=W[i][j]['weight']\n",
    "    plt.plot([xi,xj],[yi,yj],color='gray',linewidth=1,alpha=1)\n",
    "# plt.savefig('./socname_space.png',dpi=300)"
   ]
  },
  {
   "cell_type": "code",
   "execution_count": null,
   "metadata": {},
   "outputs": [],
   "source": []
  }
 ],
 "metadata": {
  "kernelspec": {
   "display_name": "Python 3",
   "language": "python",
   "name": "python3"
  },
  "language_info": {
   "codemirror_mode": {
    "name": "ipython",
    "version": 3
   },
   "file_extension": ".py",
   "mimetype": "text/x-python",
   "name": "python",
   "nbconvert_exporter": "python",
   "pygments_lexer": "ipython3",
   "version": "3.6.2"
  },
  "toc": {
   "nav_menu": {},
   "number_sections": true,
   "sideBar": true,
   "skip_h1_title": false,
   "title_cell": "Table of Contents",
   "title_sidebar": "Contents",
   "toc_cell": false,
   "toc_position": {},
   "toc_section_display": true,
   "toc_window_display": false
  }
 },
 "nbformat": 4,
 "nbformat_minor": 2
}